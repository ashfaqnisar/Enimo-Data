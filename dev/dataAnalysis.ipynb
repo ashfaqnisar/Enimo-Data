{
 "cells": [
  {
   "cell_type": "code",
   "execution_count": 3,
   "metadata": {
    "pycharm": {
     "is_executing": false
    },
    "scrolled": true
   },
   "outputs": [],
   "source": [
    "import tensorflow as tf\n",
    "import numpy as np\n",
    "import random\n",
    "import math\n",
    "import matplotlib.pyplot as plt\n",
    "import matplotlib.animation as animation\n",
    "import pandas as pd\n",
    "from sklearn.model_selection import train_test_split\n"
   ]
  },
  {
   "cell_type": "code",
   "execution_count": 7,
   "metadata": {
    "pycharm": {
     "is_executing": false
    }
   },
   "outputs": [],
   "source": [
    "data = pd.read_csv(\"house.csv\")\n"
   ]
  },
  {
   "cell_type": "code",
   "execution_count": 8,
   "metadata": {
    "pycharm": {
     "is_executing": false
    }
   },
   "outputs": [
    {
     "data": {
      "text/plain": "Main I                          964.244104\nAC                             1294.230781\nLiving Rm                        98.322240\nLights living / bath / baby      14.045172\nBath plgs                         0.647835\nHoliday                           5.106801\n(unnamed II - A)               1138.867191\nFridge                           69.483670\nKitchn / dining  Lts            124.419354\nFurnace                         157.670275\nMicrowave                        20.570049\nGuest                           167.172483\ntest                             58.445940\nGuest bath                       38.858554\nMini Fridge/Dshwshr              44.197077\nOther                            60.724647\nuse                            2103.111295\nmains                          2103.111295\nsolar                             0.000000\ndtype: float64"
     },
     "metadata": {},
     "output_type": "execute_result",
     "execution_count": 8
    }
   ],
   "source": [
    "data.mean()"
   ]
  },
  {
   "cell_type": "code",
   "execution_count": 9,
   "metadata": {
    "pycharm": {
     "is_executing": false
    }
   },
   "outputs": [
    {
     "data": {
      "text/plain": "                               Main I        AC  Living Rm  \\\nMain I                       1.000000  0.960432   0.146518   \nAC                           0.960432  1.000000   0.030761   \nLiving Rm                    0.146518  0.030761   1.000000   \nLights living / bath / baby -0.022970 -0.095350   0.231879   \nBath plgs                    0.007771 -0.006366  -0.021888   \nHoliday                     -0.176585 -0.263080   0.103607   \n(unnamed II - A)             0.945739  0.953718   0.161918   \nFridge                       0.108399  0.017145   0.194654   \nKitchn / dining  Lts         0.241870  0.158902   0.303917   \nFurnace                      0.925390  0.969404   0.072510   \nMicrowave                    0.313216  0.220044   0.278217   \nGuest                        0.812701  0.645544   0.044264   \ntest                         0.036391  0.058478  -0.092286   \nGuest bath                   0.067716  0.007686   0.126816   \nMini Fridge/Dshwshr          0.031121  0.040974   0.202208   \nOther                        0.703261  0.716202   0.315436   \nuse                          0.986307  0.970324   0.156364   \nmains                        0.986307  0.970324   0.156364   \nsolar                             NaN       NaN        NaN   \n\n                             Lights living / bath / baby  Bath plgs   Holiday  \\\nMain I                                         -0.022970   0.007771 -0.176585   \nAC                                             -0.095350  -0.006366 -0.263080   \nLiving Rm                                       0.231879  -0.021888  0.103607   \nLights living / bath / baby                     1.000000   0.038260  0.029092   \nBath plgs                                       0.038260   1.000000 -0.042291   \nHoliday                                         0.029092  -0.042291  1.000000   \n(unnamed II - A)                               -0.010143  -0.001846 -0.201988   \nFridge                                          0.353340   0.033854  0.137076   \nKitchn / dining  Lts                            0.177664   0.034297  0.035654   \nFurnace                                        -0.161335  -0.002002 -0.175860   \nMicrowave                                       0.147789  -0.062003  0.001515   \nGuest                                          -0.056627   0.009121  0.020315   \ntest                                            0.249589  -0.010027 -0.373053   \nGuest bath                                     -0.003564  -0.023068  0.126121   \nMini Fridge/Dshwshr                             0.059103  -0.020363  0.032233   \nOther                                          -0.131025  -0.046163  0.068071   \nuse                                            -0.016778   0.002997 -0.191924   \nmains                                          -0.016778   0.002997 -0.191924   \nsolar                                                NaN        NaN       NaN   \n\n                             (unnamed II - A)    Fridge  Kitchn / dining  Lts  \\\nMain I                               0.945739  0.108399              0.241870   \nAC                                   0.953718  0.017145              0.158902   \nLiving Rm                            0.161918  0.194654              0.303917   \nLights living / bath / baby         -0.010143  0.353340              0.177664   \nBath plgs                           -0.001846  0.033854              0.034297   \nHoliday                             -0.201988  0.137076              0.035654   \n(unnamed II - A)                     1.000000  0.150542              0.386480   \nFridge                               0.150542  1.000000              0.272508   \nKitchn / dining  Lts                 0.386480  0.272508              1.000000   \nFurnace                              0.922053 -0.026308              0.116774   \nMicrowave                            0.375721  0.202456              0.637671   \nGuest                                0.654632  0.184241              0.256937   \ntest                                 0.039870  0.001781              0.042654   \nGuest bath                           0.034880 -0.131522              0.019291   \nMini Fridge/Dshwshr                  0.186452  0.009779             -0.049687   \nOther                                0.770112  0.082679              0.276759   \nuse                                  0.986376  0.131290              0.318617   \nmains                                0.986376  0.131290              0.318617   \nsolar                                     NaN       NaN                   NaN   \n\n                              Furnace  Microwave     Guest      test  \\\nMain I                       0.925390   0.313216  0.812701  0.036391   \nAC                           0.969404   0.220044  0.645544  0.058478   \nLiving Rm                    0.072510   0.278217  0.044264 -0.092286   \nLights living / bath / baby -0.161335   0.147789 -0.056627  0.249589   \nBath plgs                   -0.002002  -0.062003  0.009121 -0.010027   \nHoliday                     -0.175860   0.001515  0.020315 -0.373053   \n(unnamed II - A)             0.922053   0.375721  0.654632  0.039870   \nFridge                      -0.026308   0.202456  0.184241  0.001781   \nKitchn / dining  Lts         0.116774   0.637671  0.256937  0.042654   \nFurnace                      1.000000   0.182548  0.603763 -0.023719   \nMicrowave                    0.182548   1.000000  0.346394 -0.049536   \nGuest                        0.603763   0.346394  1.000000 -0.002831   \ntest                        -0.023719  -0.049536 -0.002831  1.000000   \nGuest bath                   0.063553  -0.026384  0.152323 -0.055908   \nMini Fridge/Dshwshr          0.061402  -0.047305 -0.068489 -0.034286   \nOther                        0.749343   0.338301  0.413946 -0.520568   \nuse                          0.936511   0.349278  0.743726  0.038661   \nmains                        0.936511   0.349278  0.743726  0.038661   \nsolar                             NaN        NaN       NaN       NaN   \n\n                             Guest bath  Mini Fridge/Dshwshr     Other  \\\nMain I                         0.067716             0.031121  0.703261   \nAC                             0.007686             0.040974  0.716202   \nLiving Rm                      0.126816             0.202208  0.315436   \nLights living / bath / baby   -0.003564             0.059103 -0.131025   \nBath plgs                     -0.023068            -0.020363 -0.046163   \nHoliday                        0.126121             0.032233  0.068071   \n(unnamed II - A)               0.034880             0.186452  0.770112   \nFridge                        -0.131522             0.009779  0.082679   \nKitchn / dining  Lts           0.019291            -0.049687  0.276759   \nFurnace                        0.063553             0.061402  0.749343   \nMicrowave                     -0.026384            -0.047305  0.338301   \nGuest                          0.152323            -0.068489  0.413946   \ntest                          -0.055908            -0.034286 -0.520568   \nGuest bath                     1.000000            -0.040370  0.040550   \nMini Fridge/Dshwshr           -0.040370             1.000000  0.216001   \nOther                          0.040550             0.216001  1.000000   \nuse                            0.051987             0.110391  0.746930   \nmains                          0.051987             0.110391  0.746930   \nsolar                               NaN                  NaN       NaN   \n\n                                  use     mains  solar  \nMain I                       0.986307  0.986307    NaN  \nAC                           0.970324  0.970324    NaN  \nLiving Rm                    0.156364  0.156364    NaN  \nLights living / bath / baby -0.016778 -0.016778    NaN  \nBath plgs                    0.002997  0.002997    NaN  \nHoliday                     -0.191924 -0.191924    NaN  \n(unnamed II - A)             0.986376  0.986376    NaN  \nFridge                       0.131290  0.131290    NaN  \nKitchn / dining  Lts         0.318617  0.318617    NaN  \nFurnace                      0.936511  0.936511    NaN  \nMicrowave                    0.349278  0.349278    NaN  \nGuest                        0.743726  0.743726    NaN  \ntest                         0.038661  0.038661    NaN  \nGuest bath                   0.051987  0.051987    NaN  \nMini Fridge/Dshwshr          0.110391  0.110391    NaN  \nOther                        0.746930  0.746930    NaN  \nuse                          1.000000  1.000000    NaN  \nmains                        1.000000  1.000000    NaN  \nsolar                             NaN       NaN    NaN  ",
      "text/html": "<div>\n<style scoped>\n    .dataframe tbody tr th:only-of-type {\n        vertical-align: middle;\n    }\n\n    .dataframe tbody tr th {\n        vertical-align: top;\n    }\n\n    .dataframe thead th {\n        text-align: right;\n    }\n</style>\n<table border=\"1\" class=\"dataframe\">\n  <thead>\n    <tr style=\"text-align: right;\">\n      <th></th>\n      <th>Main I</th>\n      <th>AC</th>\n      <th>Living Rm</th>\n      <th>Lights living / bath / baby</th>\n      <th>Bath plgs</th>\n      <th>Holiday</th>\n      <th>(unnamed II - A)</th>\n      <th>Fridge</th>\n      <th>Kitchn / dining  Lts</th>\n      <th>Furnace</th>\n      <th>Microwave</th>\n      <th>Guest</th>\n      <th>test</th>\n      <th>Guest bath</th>\n      <th>Mini Fridge/Dshwshr</th>\n      <th>Other</th>\n      <th>use</th>\n      <th>mains</th>\n      <th>solar</th>\n    </tr>\n  </thead>\n  <tbody>\n    <tr>\n      <th>Main I</th>\n      <td>1.000000</td>\n      <td>0.960432</td>\n      <td>0.146518</td>\n      <td>-0.022970</td>\n      <td>0.007771</td>\n      <td>-0.176585</td>\n      <td>0.945739</td>\n      <td>0.108399</td>\n      <td>0.241870</td>\n      <td>0.925390</td>\n      <td>0.313216</td>\n      <td>0.812701</td>\n      <td>0.036391</td>\n      <td>0.067716</td>\n      <td>0.031121</td>\n      <td>0.703261</td>\n      <td>0.986307</td>\n      <td>0.986307</td>\n      <td>NaN</td>\n    </tr>\n    <tr>\n      <th>AC</th>\n      <td>0.960432</td>\n      <td>1.000000</td>\n      <td>0.030761</td>\n      <td>-0.095350</td>\n      <td>-0.006366</td>\n      <td>-0.263080</td>\n      <td>0.953718</td>\n      <td>0.017145</td>\n      <td>0.158902</td>\n      <td>0.969404</td>\n      <td>0.220044</td>\n      <td>0.645544</td>\n      <td>0.058478</td>\n      <td>0.007686</td>\n      <td>0.040974</td>\n      <td>0.716202</td>\n      <td>0.970324</td>\n      <td>0.970324</td>\n      <td>NaN</td>\n    </tr>\n    <tr>\n      <th>Living Rm</th>\n      <td>0.146518</td>\n      <td>0.030761</td>\n      <td>1.000000</td>\n      <td>0.231879</td>\n      <td>-0.021888</td>\n      <td>0.103607</td>\n      <td>0.161918</td>\n      <td>0.194654</td>\n      <td>0.303917</td>\n      <td>0.072510</td>\n      <td>0.278217</td>\n      <td>0.044264</td>\n      <td>-0.092286</td>\n      <td>0.126816</td>\n      <td>0.202208</td>\n      <td>0.315436</td>\n      <td>0.156364</td>\n      <td>0.156364</td>\n      <td>NaN</td>\n    </tr>\n    <tr>\n      <th>Lights living / bath / baby</th>\n      <td>-0.022970</td>\n      <td>-0.095350</td>\n      <td>0.231879</td>\n      <td>1.000000</td>\n      <td>0.038260</td>\n      <td>0.029092</td>\n      <td>-0.010143</td>\n      <td>0.353340</td>\n      <td>0.177664</td>\n      <td>-0.161335</td>\n      <td>0.147789</td>\n      <td>-0.056627</td>\n      <td>0.249589</td>\n      <td>-0.003564</td>\n      <td>0.059103</td>\n      <td>-0.131025</td>\n      <td>-0.016778</td>\n      <td>-0.016778</td>\n      <td>NaN</td>\n    </tr>\n    <tr>\n      <th>Bath plgs</th>\n      <td>0.007771</td>\n      <td>-0.006366</td>\n      <td>-0.021888</td>\n      <td>0.038260</td>\n      <td>1.000000</td>\n      <td>-0.042291</td>\n      <td>-0.001846</td>\n      <td>0.033854</td>\n      <td>0.034297</td>\n      <td>-0.002002</td>\n      <td>-0.062003</td>\n      <td>0.009121</td>\n      <td>-0.010027</td>\n      <td>-0.023068</td>\n      <td>-0.020363</td>\n      <td>-0.046163</td>\n      <td>0.002997</td>\n      <td>0.002997</td>\n      <td>NaN</td>\n    </tr>\n    <tr>\n      <th>Holiday</th>\n      <td>-0.176585</td>\n      <td>-0.263080</td>\n      <td>0.103607</td>\n      <td>0.029092</td>\n      <td>-0.042291</td>\n      <td>1.000000</td>\n      <td>-0.201988</td>\n      <td>0.137076</td>\n      <td>0.035654</td>\n      <td>-0.175860</td>\n      <td>0.001515</td>\n      <td>0.020315</td>\n      <td>-0.373053</td>\n      <td>0.126121</td>\n      <td>0.032233</td>\n      <td>0.068071</td>\n      <td>-0.191924</td>\n      <td>-0.191924</td>\n      <td>NaN</td>\n    </tr>\n    <tr>\n      <th>(unnamed II - A)</th>\n      <td>0.945739</td>\n      <td>0.953718</td>\n      <td>0.161918</td>\n      <td>-0.010143</td>\n      <td>-0.001846</td>\n      <td>-0.201988</td>\n      <td>1.000000</td>\n      <td>0.150542</td>\n      <td>0.386480</td>\n      <td>0.922053</td>\n      <td>0.375721</td>\n      <td>0.654632</td>\n      <td>0.039870</td>\n      <td>0.034880</td>\n      <td>0.186452</td>\n      <td>0.770112</td>\n      <td>0.986376</td>\n      <td>0.986376</td>\n      <td>NaN</td>\n    </tr>\n    <tr>\n      <th>Fridge</th>\n      <td>0.108399</td>\n      <td>0.017145</td>\n      <td>0.194654</td>\n      <td>0.353340</td>\n      <td>0.033854</td>\n      <td>0.137076</td>\n      <td>0.150542</td>\n      <td>1.000000</td>\n      <td>0.272508</td>\n      <td>-0.026308</td>\n      <td>0.202456</td>\n      <td>0.184241</td>\n      <td>0.001781</td>\n      <td>-0.131522</td>\n      <td>0.009779</td>\n      <td>0.082679</td>\n      <td>0.131290</td>\n      <td>0.131290</td>\n      <td>NaN</td>\n    </tr>\n    <tr>\n      <th>Kitchn / dining  Lts</th>\n      <td>0.241870</td>\n      <td>0.158902</td>\n      <td>0.303917</td>\n      <td>0.177664</td>\n      <td>0.034297</td>\n      <td>0.035654</td>\n      <td>0.386480</td>\n      <td>0.272508</td>\n      <td>1.000000</td>\n      <td>0.116774</td>\n      <td>0.637671</td>\n      <td>0.256937</td>\n      <td>0.042654</td>\n      <td>0.019291</td>\n      <td>-0.049687</td>\n      <td>0.276759</td>\n      <td>0.318617</td>\n      <td>0.318617</td>\n      <td>NaN</td>\n    </tr>\n    <tr>\n      <th>Furnace</th>\n      <td>0.925390</td>\n      <td>0.969404</td>\n      <td>0.072510</td>\n      <td>-0.161335</td>\n      <td>-0.002002</td>\n      <td>-0.175860</td>\n      <td>0.922053</td>\n      <td>-0.026308</td>\n      <td>0.116774</td>\n      <td>1.000000</td>\n      <td>0.182548</td>\n      <td>0.603763</td>\n      <td>-0.023719</td>\n      <td>0.063553</td>\n      <td>0.061402</td>\n      <td>0.749343</td>\n      <td>0.936511</td>\n      <td>0.936511</td>\n      <td>NaN</td>\n    </tr>\n    <tr>\n      <th>Microwave</th>\n      <td>0.313216</td>\n      <td>0.220044</td>\n      <td>0.278217</td>\n      <td>0.147789</td>\n      <td>-0.062003</td>\n      <td>0.001515</td>\n      <td>0.375721</td>\n      <td>0.202456</td>\n      <td>0.637671</td>\n      <td>0.182548</td>\n      <td>1.000000</td>\n      <td>0.346394</td>\n      <td>-0.049536</td>\n      <td>-0.026384</td>\n      <td>-0.047305</td>\n      <td>0.338301</td>\n      <td>0.349278</td>\n      <td>0.349278</td>\n      <td>NaN</td>\n    </tr>\n    <tr>\n      <th>Guest</th>\n      <td>0.812701</td>\n      <td>0.645544</td>\n      <td>0.044264</td>\n      <td>-0.056627</td>\n      <td>0.009121</td>\n      <td>0.020315</td>\n      <td>0.654632</td>\n      <td>0.184241</td>\n      <td>0.256937</td>\n      <td>0.603763</td>\n      <td>0.346394</td>\n      <td>1.000000</td>\n      <td>-0.002831</td>\n      <td>0.152323</td>\n      <td>-0.068489</td>\n      <td>0.413946</td>\n      <td>0.743726</td>\n      <td>0.743726</td>\n      <td>NaN</td>\n    </tr>\n    <tr>\n      <th>test</th>\n      <td>0.036391</td>\n      <td>0.058478</td>\n      <td>-0.092286</td>\n      <td>0.249589</td>\n      <td>-0.010027</td>\n      <td>-0.373053</td>\n      <td>0.039870</td>\n      <td>0.001781</td>\n      <td>0.042654</td>\n      <td>-0.023719</td>\n      <td>-0.049536</td>\n      <td>-0.002831</td>\n      <td>1.000000</td>\n      <td>-0.055908</td>\n      <td>-0.034286</td>\n      <td>-0.520568</td>\n      <td>0.038661</td>\n      <td>0.038661</td>\n      <td>NaN</td>\n    </tr>\n    <tr>\n      <th>Guest bath</th>\n      <td>0.067716</td>\n      <td>0.007686</td>\n      <td>0.126816</td>\n      <td>-0.003564</td>\n      <td>-0.023068</td>\n      <td>0.126121</td>\n      <td>0.034880</td>\n      <td>-0.131522</td>\n      <td>0.019291</td>\n      <td>0.063553</td>\n      <td>-0.026384</td>\n      <td>0.152323</td>\n      <td>-0.055908</td>\n      <td>1.000000</td>\n      <td>-0.040370</td>\n      <td>0.040550</td>\n      <td>0.051987</td>\n      <td>0.051987</td>\n      <td>NaN</td>\n    </tr>\n    <tr>\n      <th>Mini Fridge/Dshwshr</th>\n      <td>0.031121</td>\n      <td>0.040974</td>\n      <td>0.202208</td>\n      <td>0.059103</td>\n      <td>-0.020363</td>\n      <td>0.032233</td>\n      <td>0.186452</td>\n      <td>0.009779</td>\n      <td>-0.049687</td>\n      <td>0.061402</td>\n      <td>-0.047305</td>\n      <td>-0.068489</td>\n      <td>-0.034286</td>\n      <td>-0.040370</td>\n      <td>1.000000</td>\n      <td>0.216001</td>\n      <td>0.110391</td>\n      <td>0.110391</td>\n      <td>NaN</td>\n    </tr>\n    <tr>\n      <th>Other</th>\n      <td>0.703261</td>\n      <td>0.716202</td>\n      <td>0.315436</td>\n      <td>-0.131025</td>\n      <td>-0.046163</td>\n      <td>0.068071</td>\n      <td>0.770112</td>\n      <td>0.082679</td>\n      <td>0.276759</td>\n      <td>0.749343</td>\n      <td>0.338301</td>\n      <td>0.413946</td>\n      <td>-0.520568</td>\n      <td>0.040550</td>\n      <td>0.216001</td>\n      <td>1.000000</td>\n      <td>0.746930</td>\n      <td>0.746930</td>\n      <td>NaN</td>\n    </tr>\n    <tr>\n      <th>use</th>\n      <td>0.986307</td>\n      <td>0.970324</td>\n      <td>0.156364</td>\n      <td>-0.016778</td>\n      <td>0.002997</td>\n      <td>-0.191924</td>\n      <td>0.986376</td>\n      <td>0.131290</td>\n      <td>0.318617</td>\n      <td>0.936511</td>\n      <td>0.349278</td>\n      <td>0.743726</td>\n      <td>0.038661</td>\n      <td>0.051987</td>\n      <td>0.110391</td>\n      <td>0.746930</td>\n      <td>1.000000</td>\n      <td>1.000000</td>\n      <td>NaN</td>\n    </tr>\n    <tr>\n      <th>mains</th>\n      <td>0.986307</td>\n      <td>0.970324</td>\n      <td>0.156364</td>\n      <td>-0.016778</td>\n      <td>0.002997</td>\n      <td>-0.191924</td>\n      <td>0.986376</td>\n      <td>0.131290</td>\n      <td>0.318617</td>\n      <td>0.936511</td>\n      <td>0.349278</td>\n      <td>0.743726</td>\n      <td>0.038661</td>\n      <td>0.051987</td>\n      <td>0.110391</td>\n      <td>0.746930</td>\n      <td>1.000000</td>\n      <td>1.000000</td>\n      <td>NaN</td>\n    </tr>\n    <tr>\n      <th>solar</th>\n      <td>NaN</td>\n      <td>NaN</td>\n      <td>NaN</td>\n      <td>NaN</td>\n      <td>NaN</td>\n      <td>NaN</td>\n      <td>NaN</td>\n      <td>NaN</td>\n      <td>NaN</td>\n      <td>NaN</td>\n      <td>NaN</td>\n      <td>NaN</td>\n      <td>NaN</td>\n      <td>NaN</td>\n      <td>NaN</td>\n      <td>NaN</td>\n      <td>NaN</td>\n      <td>NaN</td>\n      <td>NaN</td>\n    </tr>\n  </tbody>\n</table>\n</div>"
     },
     "metadata": {},
     "output_type": "execute_result",
     "execution_count": 9
    }
   ],
   "source": [
    "data.cov()\n",
    "data.corr()"
   ]
  },
  {
   "cell_type": "code",
   "execution_count": 10,
   "metadata": {
    "pycharm": {
     "is_executing": false
    }
   },
   "outputs": [
    {
     "data": {
      "text/plain": "Index(['timestamp', 'Main I', 'AC', 'Living Rm', 'Lights living / bath / baby',\n       'Bath plgs', 'Holiday', '(unnamed II - A)', 'Fridge',\n       'Kitchn / dining  Lts', 'Furnace', 'Microwave', 'Guest', 'test',\n       'Guest bath', 'Mini Fridge/Dshwshr', 'Other', 'use', 'mains', 'solar'],\n      dtype='object')"
     },
     "metadata": {},
     "output_type": "execute_result",
     "execution_count": 10
    }
   ],
   "source": [
    "data.columns"
   ]
  },
  {
   "cell_type": "code",
   "execution_count": 13,
   "metadata": {
    "pycharm": {
     "is_executing": false
    }
   },
   "outputs": [
    {
     "data": {
      "text/plain": "            Main I           AC   Living Rm  Lights living / bath / baby  \\\ncount   126.000000   126.000000  126.000000                   126.000000   \nmean    964.244104  1294.230781   98.322240                    14.045172   \nstd     524.992535   768.943371   48.902894                    24.207122   \nmin     116.985379     0.000000   43.893672                     0.000000   \n25%     533.616473   724.021110   94.736970                     0.000000   \n50%     940.759510  1320.002024   99.188996                     0.000000   \n75%    1436.621984  2092.175354  100.225450                    14.449795   \nmax    2160.018209  2199.240366  411.524924                    90.943929   \n\n        Bath plgs     Holiday  (unnamed II - A)      Fridge  \\\ncount  126.000000  126.000000        126.000000  126.000000   \nmean     0.647835    5.106801       1138.867191   69.483670   \nstd      5.465027    1.534173        526.301201   39.434616   \nmin      0.000000    0.000000        116.235472    0.000000   \n25%      0.000000    5.191597        694.121237   39.539463   \n50%      0.000000    5.503162       1149.365530   58.123969   \n75%      0.000000    5.754218       1643.145116   93.528435   \nmax     60.041136    6.366651       1950.193466  199.091234   \n\n       Kitchn / dining  Lts     Furnace   Microwave       Guest        test  \\\ncount            126.000000  126.000000  126.000000  126.000000  126.000000   \nmean             124.419354  157.670275   20.570049  167.172483   58.445940   \nstd              106.824288   80.984795   21.349244  167.957676  216.706801   \nmin               22.245735    0.000000    5.434791    0.000000    0.000000   \n25%               27.700154  109.415789    6.643162   21.656497    0.000000   \n50%               70.711303  158.044244    9.297530  125.018424    0.000000   \n75%              242.548540  236.374119   28.585743  262.549052   11.451258   \nmax              325.853324  244.190165   99.203332  909.042450  943.106552   \n\n       Guest bath  Mini Fridge/Dshwshr       Other          use        mains  \\\ncount  126.000000           126.000000  126.000000   126.000000   126.000000   \nmean    38.858554            44.197077   60.724647  2103.111295  2103.111295   \nstd     19.710111            79.757897   28.989292  1036.934705  1036.934705   \nmin      0.000000             5.380025    0.000000   233.220851   233.220851   \n25%     27.715296            26.865946   39.607571  1223.550995  1223.550995   \n50%     35.678307            28.978511   56.983582  2021.050453  2021.050453   \n75%     48.369775            31.741384   85.175633  3074.690338  3074.690338   \nmax    124.596468           701.906377  116.633127  3972.839076  3972.839076   \n\n       solar  \ncount  126.0  \nmean     0.0  \nstd      0.0  \nmin      0.0  \n25%      0.0  \n50%      0.0  \n75%      0.0  \nmax      0.0  ",
      "text/html": "<div>\n<style scoped>\n    .dataframe tbody tr th:only-of-type {\n        vertical-align: middle;\n    }\n\n    .dataframe tbody tr th {\n        vertical-align: top;\n    }\n\n    .dataframe thead th {\n        text-align: right;\n    }\n</style>\n<table border=\"1\" class=\"dataframe\">\n  <thead>\n    <tr style=\"text-align: right;\">\n      <th></th>\n      <th>Main I</th>\n      <th>AC</th>\n      <th>Living Rm</th>\n      <th>Lights living / bath / baby</th>\n      <th>Bath plgs</th>\n      <th>Holiday</th>\n      <th>(unnamed II - A)</th>\n      <th>Fridge</th>\n      <th>Kitchn / dining  Lts</th>\n      <th>Furnace</th>\n      <th>Microwave</th>\n      <th>Guest</th>\n      <th>test</th>\n      <th>Guest bath</th>\n      <th>Mini Fridge/Dshwshr</th>\n      <th>Other</th>\n      <th>use</th>\n      <th>mains</th>\n      <th>solar</th>\n    </tr>\n  </thead>\n  <tbody>\n    <tr>\n      <th>count</th>\n      <td>126.000000</td>\n      <td>126.000000</td>\n      <td>126.000000</td>\n      <td>126.000000</td>\n      <td>126.000000</td>\n      <td>126.000000</td>\n      <td>126.000000</td>\n      <td>126.000000</td>\n      <td>126.000000</td>\n      <td>126.000000</td>\n      <td>126.000000</td>\n      <td>126.000000</td>\n      <td>126.000000</td>\n      <td>126.000000</td>\n      <td>126.000000</td>\n      <td>126.000000</td>\n      <td>126.000000</td>\n      <td>126.000000</td>\n      <td>126.0</td>\n    </tr>\n    <tr>\n      <th>mean</th>\n      <td>964.244104</td>\n      <td>1294.230781</td>\n      <td>98.322240</td>\n      <td>14.045172</td>\n      <td>0.647835</td>\n      <td>5.106801</td>\n      <td>1138.867191</td>\n      <td>69.483670</td>\n      <td>124.419354</td>\n      <td>157.670275</td>\n      <td>20.570049</td>\n      <td>167.172483</td>\n      <td>58.445940</td>\n      <td>38.858554</td>\n      <td>44.197077</td>\n      <td>60.724647</td>\n      <td>2103.111295</td>\n      <td>2103.111295</td>\n      <td>0.0</td>\n    </tr>\n    <tr>\n      <th>std</th>\n      <td>524.992535</td>\n      <td>768.943371</td>\n      <td>48.902894</td>\n      <td>24.207122</td>\n      <td>5.465027</td>\n      <td>1.534173</td>\n      <td>526.301201</td>\n      <td>39.434616</td>\n      <td>106.824288</td>\n      <td>80.984795</td>\n      <td>21.349244</td>\n      <td>167.957676</td>\n      <td>216.706801</td>\n      <td>19.710111</td>\n      <td>79.757897</td>\n      <td>28.989292</td>\n      <td>1036.934705</td>\n      <td>1036.934705</td>\n      <td>0.0</td>\n    </tr>\n    <tr>\n      <th>min</th>\n      <td>116.985379</td>\n      <td>0.000000</td>\n      <td>43.893672</td>\n      <td>0.000000</td>\n      <td>0.000000</td>\n      <td>0.000000</td>\n      <td>116.235472</td>\n      <td>0.000000</td>\n      <td>22.245735</td>\n      <td>0.000000</td>\n      <td>5.434791</td>\n      <td>0.000000</td>\n      <td>0.000000</td>\n      <td>0.000000</td>\n      <td>5.380025</td>\n      <td>0.000000</td>\n      <td>233.220851</td>\n      <td>233.220851</td>\n      <td>0.0</td>\n    </tr>\n    <tr>\n      <th>25%</th>\n      <td>533.616473</td>\n      <td>724.021110</td>\n      <td>94.736970</td>\n      <td>0.000000</td>\n      <td>0.000000</td>\n      <td>5.191597</td>\n      <td>694.121237</td>\n      <td>39.539463</td>\n      <td>27.700154</td>\n      <td>109.415789</td>\n      <td>6.643162</td>\n      <td>21.656497</td>\n      <td>0.000000</td>\n      <td>27.715296</td>\n      <td>26.865946</td>\n      <td>39.607571</td>\n      <td>1223.550995</td>\n      <td>1223.550995</td>\n      <td>0.0</td>\n    </tr>\n    <tr>\n      <th>50%</th>\n      <td>940.759510</td>\n      <td>1320.002024</td>\n      <td>99.188996</td>\n      <td>0.000000</td>\n      <td>0.000000</td>\n      <td>5.503162</td>\n      <td>1149.365530</td>\n      <td>58.123969</td>\n      <td>70.711303</td>\n      <td>158.044244</td>\n      <td>9.297530</td>\n      <td>125.018424</td>\n      <td>0.000000</td>\n      <td>35.678307</td>\n      <td>28.978511</td>\n      <td>56.983582</td>\n      <td>2021.050453</td>\n      <td>2021.050453</td>\n      <td>0.0</td>\n    </tr>\n    <tr>\n      <th>75%</th>\n      <td>1436.621984</td>\n      <td>2092.175354</td>\n      <td>100.225450</td>\n      <td>14.449795</td>\n      <td>0.000000</td>\n      <td>5.754218</td>\n      <td>1643.145116</td>\n      <td>93.528435</td>\n      <td>242.548540</td>\n      <td>236.374119</td>\n      <td>28.585743</td>\n      <td>262.549052</td>\n      <td>11.451258</td>\n      <td>48.369775</td>\n      <td>31.741384</td>\n      <td>85.175633</td>\n      <td>3074.690338</td>\n      <td>3074.690338</td>\n      <td>0.0</td>\n    </tr>\n    <tr>\n      <th>max</th>\n      <td>2160.018209</td>\n      <td>2199.240366</td>\n      <td>411.524924</td>\n      <td>90.943929</td>\n      <td>60.041136</td>\n      <td>6.366651</td>\n      <td>1950.193466</td>\n      <td>199.091234</td>\n      <td>325.853324</td>\n      <td>244.190165</td>\n      <td>99.203332</td>\n      <td>909.042450</td>\n      <td>943.106552</td>\n      <td>124.596468</td>\n      <td>701.906377</td>\n      <td>116.633127</td>\n      <td>3972.839076</td>\n      <td>3972.839076</td>\n      <td>0.0</td>\n    </tr>\n  </tbody>\n</table>\n</div>"
     },
     "metadata": {},
     "output_type": "execute_result",
     "execution_count": 13
    }
   ],
   "source": [
    "data.describe()"
   ]
  },
  {
   "cell_type": "code",
   "execution_count": 14,
   "metadata": {
    "pycharm": {
     "is_executing": false
    }
   },
   "outputs": [],
   "source": [
    "ac_data = data['AC']\n",
    "timestamp_data = data['timestamp']"
   ]
  },
  {
   "cell_type": "code",
   "execution_count": 15,
   "metadata": {
    "pycharm": {
     "is_executing": false
    }
   },
   "outputs": [
    {
     "data": {
      "text/plain": "<matplotlib.axes._subplots.AxesSubplot at 0x16a01cdbdd8>"
     },
     "metadata": {},
     "output_type": "execute_result",
     "execution_count": 15
    },
    {
     "data": {
      "text/plain": "<Figure size 432x288 with 1 Axes>",
      "image/png": "[encoded data removed]"
     },
     "metadata": {
      "needs_background": "light"
     },
     "output_type": "display_data"
    }
   ],
   "source": [
    "ac_data.hist(bins=100)"
   ]
  },
  {
   "cell_type": "code",
   "execution_count": 16,
   "metadata": {
    "pycharm": {
     "is_executing": false
    }
   },
   "outputs": [
    {
     "data": {
      "text/plain": "<matplotlib.axes._subplots.AxesSubplot at 0x16a028f7e80>"
     },
     "metadata": {},
     "output_type": "execute_result",
     "execution_count": 16
    },
    {
     "data": {
      "text/plain": "<Figure size 432x288 with 1 Axes>",
      "image/png": "[encoded data removed]"
     },
     "metadata": {
      "needs_background": "light"
     },
     "output_type": "display_data"
    }
   ],
   "source": [
    "data.boxplot(column='AC',by='mains')"
   ]
  },
  {
   "cell_type": "code",
   "execution_count": 17,
   "metadata": {
    "pycharm": {
     "is_executing": false
    }
   },
   "outputs": [
    {
     "data": {
      "text/plain": "[<matplotlib.lines.Line2D at 0x16a035158d0>]"
     },
     "metadata": {},
     "output_type": "execute_result",
     "execution_count": 17
    },
    {
     "data": {
      "text/plain": "<Figure size 432x288 with 1 Axes>",
      "image/png": "[encoded data removed]"
     },
     "metadata": {
      "needs_background": "light"
     },
     "output_type": "display_data"
    }
   ],
   "source": [
    "plt.plot(timestamp_data,ac_data,'*')\n"
   ]
  },
  {
   "cell_type": "code",
   "execution_count": 18,
   "outputs": [
    {
     "data": {
      "text/plain": "126"
     },
     "metadata": {},
     "output_type": "execute_result",
     "execution_count": 18
    }
   ],
   "source": [
    "row_count=data.shape[0]\n",
    "row_count #126\n"
   ],
   "metadata": {
    "collapsed": false,
    "pycharm": {
     "name": "#%%\n",
     "is_executing": false
    }
   }
  },
  {
   "cell_type": "code",
   "execution_count": 27,
   "outputs": [],
   "source": [
    "#Splitting the training data and test data\n",
    "training_data,test_data = train_test_split(data,test_size=0.3)\n"
   ],
   "metadata": {
    "collapsed": false,
    "pycharm": {
     "name": "#%%\n",
     "is_executing": false
    }
   }
  },
  {
   "cell_type": "code",
   "execution_count": 29,
   "outputs": [
    {
     "data": {
      "text/plain": "array([1058.46229855,    0.        , 2054.233951  ,    0.        ,\n       2187.48855609,  663.47795549, 2153.99846813, 2198.52832225,\n       1019.37801688,  990.63779131,  848.5594031 , 1932.05104272,\n       1670.52263744, 2145.36310764,  379.67696026, 2039.67060849,\n       2158.51287397, 1350.2510832 ,  456.41203189, 2133.69361041,\n        752.14353256, 1090.39487948, 2081.85735829, 2153.17518425,\n        797.0257082 ,    0.        , 1020.23881195, 1053.56210347,\n          0.        , 1398.44113792,  919.57025129, 1967.64467351,\n       2136.30795389,  885.13425957, 2189.38894671, 2182.35379133,\n       1020.92026619,  476.90466681,  752.55937586, 2138.96839677,\n       1959.62049627,  822.47300979, 1123.93128254, 2172.41893838,\n        970.31457657, 2199.24036586, 2118.11335989,    0.        ,\n        416.96080631,    0.        , 1452.20495718, 1045.02202675,\n       2108.36972643, 1978.33318968,  979.99719641,  751.62061299,\n       2199.24036586,    0.        ,  437.77636054, 2158.82273464,\n       1516.23339431,    0.        , 2009.25804071,    0.        ,\n       2012.2146452 ,  566.69987916,    0.        , 2181.35522641,\n       2126.31594183,    0.        ,    0.        ,  935.84592333,\n       1938.10754411,    0.        , 1053.56210347, 1635.8277533 ,\n        885.13425957,  461.47446062, 1051.79887175, 1374.49726029,\n       2169.89806484, 1967.64467351, 2042.9574686 ,  913.10843558,\n       2108.13670459,  799.49105123, 2189.21842294,  702.44889254])"
     },
     "metadata": {},
     "output_type": "execute_result",
     "execution_count": 29
    }
   ],
   "source": [
    "#Training Data\n",
    "train_ac_data = np.asarray(training_data['AC'])\n",
    "\n"
   ],
   "metadata": {
    "collapsed": false,
    "pycharm": {
     "name": "#%%\n",
     "is_executing": false
    }
   }
  },
  {
   "cell_type": "code",
   "execution_count": 30,
   "outputs": [
    {
     "data": {
      "text/plain": "array([ 714.82127565, 2169.60652638, 1436.25472457, 2124.10924171,\n       1574.20564093,  585.01786485, 1484.20025645, 2001.75311191,\n        458.62987717, 2154.9660217 , 1012.57171845, 2053.88816579,\n       1289.75296401, 1626.13989018, 2034.03649716, 2031.27813191,\n       1492.61728361, 1519.17092018,  655.75258707,  613.85664599,\n       2095.61468604, 1978.33318968, 2168.30174395, 2125.50408772,\n       2124.10924171,  315.50344146, 1030.44006863,    0.        ,\n       2066.48779572,  487.99725179, 1153.47048282,  851.49404376,\n       2125.02926017,    0.        , 2181.37771564, 2164.98380525,\n          0.        , 1178.60324342])"
     },
     "metadata": {},
     "output_type": "execute_result",
     "execution_count": 30
    }
   ],
   "source": [
    "test_ac_data = np.asarray(test_data['AC'])\n",
    "test_ac_data\n",
    "\n"
   ],
   "metadata": {
    "collapsed": false,
    "pycharm": {
     "name": "#%%\n",
     "is_executing": false
    }
   }
  },
  {
   "cell_type": "code",
   "execution_count": 16,
   "outputs": [],
   "source": [
    "def normalize(array):\n",
    "    return (array - array.mean()) / array.std()\n"
   ],
   "metadata": {
    "collapsed": false,
    "pycharm": {
     "name": "#%%\n",
     "is_executing": false
    }
   }
  },
  {
   "cell_type": "code",
   "execution_count": 17,
   "outputs": [
    {
     "data": {
      "text/plain": "array([ 0.42069272, -0.67206804, -1.19395888, -0.33922316, -1.32941987,\n        0.87181193, -1.06885309, -0.74795521,  1.16477789, -0.62519934,\n       -1.24847378, -1.8583989 , -1.00315266, -0.81121515, -1.27747473,\n        0.98334051,  1.16255384,  0.22116696, -1.8583989 ,  0.93051254,\n        1.10098332, -0.38371274,  0.20944006,  0.97549087,  1.20565859,\n        1.1807404 ,  0.46903083, -0.5545461 ,  1.13059494, -0.40243819,\n        1.16437171,  0.02281746,  0.0899575 ,  1.11433659, -0.42275427,\n        1.16829006,  1.14397405, -0.06147061, -1.8583989 , -0.8104866 ,\n       -0.49303302, -0.21632823,  1.14147899, -1.22250992, -0.93401854,\n       -1.21941995,  1.10226512,  0.16486311, -1.8583989 ,  0.94096867,\n       -1.21545677,  1.19169568,  1.09262965, -0.58622475,  1.10292667,\n        0.40719525, -0.94478179,  1.18928557, -0.39053986,  0.05659807,\n       -0.57722193,  1.10098332,  1.20466655,  0.8978831 ,  1.12168561,\n       -0.87972289,  1.06128372,  1.20565859, -0.71250115, -1.04333184,\n        1.14262602, -0.44764908, -0.67615669,  1.18213164,  1.15793117,\n       -1.8583989 ,  1.04211654,  0.8978831 , -0.80990723, -0.43696702,\n       -1.8583989 ,  1.00363066, -1.17850431, -0.39053986,  1.18077173,\n       -0.50652318,  0.1426407 , -0.47820818])"
     },
     "metadata": {},
     "output_type": "execute_result",
     "execution_count": 17
    }
   ],
   "source": [
    "train_ac_data_norm = normalize(train_ac_data)\n",
    "train_ac_data_norm\n",
    "\n"
   ],
   "metadata": {
    "collapsed": false,
    "pycharm": {
     "name": "#%%\n",
     "is_executing": false
    }
   }
  },
  {
   "cell_type": "code",
   "execution_count": 18,
   "outputs": [
    {
     "data": {
      "text/plain": "array([-1.39790103,  1.00452991,  1.08570054,  0.84823815,  0.88961814,\n       -1.39790103,  0.98988199, -0.17511416, -1.39790103, -1.03110708,\n       -0.56687326,  1.14741076,  0.97717432, -1.39790103, -0.05691408,\n       -0.36887297,  0.36823726, -1.39790103,  1.05322047, -1.39790103,\n       -1.39790103, -0.21280558,  1.07408415, -1.39790103,  0.43221882,\n       -1.39790103,  0.96359631,  0.85527924, -0.46843896,  0.94143373,\n       -1.39790103,  0.88961814,  1.11151525, -0.21101261,  1.11187548,\n       -0.09125538,  0.36482219,  1.05294957])"
     },
     "metadata": {},
     "output_type": "execute_result",
     "execution_count": 18
    }
   ],
   "source": [
    "test_ac_data_norm = normalize(test_ac_data)\n",
    "test_ac_data_norm\n",
    "\n"
   ],
   "metadata": {
    "collapsed": false,
    "pycharm": {
     "name": "#%%\n",
     "is_executing": false
    }
   }
  }
 ],
 "metadata": {
  "kernelspec": {
   "display_name": "Python 3",
   "language": "python",
   "name": "python3"
  },
  "language_info": {
   "codemirror_mode": {
    "name": "ipython",
    "version": 3
   },
   "file_extension": ".py",
   "mimetype": "text/x-python",
   "name": "python",
   "nbconvert_exporter": "python",
   "pygments_lexer": "ipython3",
   "version": "3.7.3"
  },
  "pycharm": {
   "stem_cell": {
    "cell_type": "raw",
    "source": [],
    "metadata": {
     "collapsed": false
    }
   }
  }
 },
 "nbformat": 4,
 "nbformat_minor": 1
}