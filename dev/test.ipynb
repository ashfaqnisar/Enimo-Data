{
 "cells": [
  {
   "cell_type": "code",
   "execution_count": 1,
   "metadata": {},
   "outputs": [],
   "source": [
    "import tensorflow as tf\n",
    "import numpy as np\n",
    "import random\n",
    "import math\n",
    "import matplotlib.pyplot as plt\n",
    "import matplotlib.animation as animation\n"
   ]
  },
  {
   "cell_type": "code",
   "execution_count": 3,
   "metadata": {
    "pycharm": {
     "name": "#%%\n"
    }
   },
   "outputs": [
    {
     "data": {
      "text/plain": [
       "160"
      ]
     },
     "execution_count": 3,
     "metadata": {},
     "output_type": "execute_result"
    }
   ],
   "source": [
    "houses = 160\n",
    "houses\n"
   ]
  },
  {
   "cell_type": "code",
   "execution_count": 4,
   "metadata": {
    "pycharm": {
     "name": "#%%\n"
    }
   },
   "outputs": [],
   "source": [
    "house_size = np.random.randint(1000, 3500, houses)\n",
    "house_price = house_size * 100.0 + np.random.randint(20000, 72000, houses)\n"
   ]
  },
  {
   "cell_type": "code",
   "execution_count": 5,
   "metadata": {
    "pycharm": {
     "name": "#%%\n"
    }
   },
   "outputs": [
    {
     "data": {
      "image/png": "[encoded data removed]",
      "text/plain": [
       "<Figure size 432x288 with 1 Axes>"
      ]
     },
     "metadata": {
      "needs_background": "light"
     },
     "output_type": "display_data"
    }
   ],
   "source": [
    "plt.plot(house_size, house_price, \"bx\")\n",
    "plt.xlabel(\"Size\")\n",
    "plt.ylabel(\"House\")\n",
    "plt.show()\n"
   ]
  },
  {
   "cell_type": "code",
   "execution_count": 6,
   "metadata": {},
   "outputs": [],
   "source": [
    "def normalize(array):\n",
    "    return (array - array.mean()) / array.std()"
   ]
  },
  {
   "cell_type": "code",
   "execution_count": 10,
   "metadata": {},
   "outputs": [
    {
     "data": {
      "text/plain": [
       "112"
      ]
     },
     "execution_count": 10,
     "metadata": {},
     "output_type": "execute_result"
    }
   ],
   "source": [
    "num_train_samples = math.floor(houses*0.7)\n",
    "num_train_samples"
   ]
  },
  {
   "cell_type": "code",
   "execution_count": 12,
   "metadata": {},
   "outputs": [
    {
     "data": {
      "text/plain": [
       "array([2216, 2285, 3267, 2590, 2402, 2701, 1192, 1655, 2638, 2009, 1708,\n",
       "       1149, 3028, 2593, 3116, 2257, 1275, 2063, 2272, 3460, 1161, 3095,\n",
       "       1817, 3220, 2467, 1810, 1393, 2005, 2301, 2270, 2525, 2990, 1833,\n",
       "       2419, 2981, 1786, 1626, 3252, 1414, 1428, 2373, 1592, 1490, 1985,\n",
       "       1733, 1946, 2954, 3147, 2038, 2909, 1244, 2420, 1546, 1183, 2602,\n",
       "       1979, 3207, 3079, 1982, 1252, 2627, 3188, 1562, 3413, 2644, 2373,\n",
       "       3312, 1550, 2681, 2501, 1945, 2073, 2354, 3089, 1211, 2272, 3060,\n",
       "       1106, 3211, 1045, 2292, 1215, 3450, 2542, 1876, 2134, 2081, 1537,\n",
       "       1884, 1824, 1547, 2063, 2817, 3353, 1141, 3402, 3296, 3281, 1643,\n",
       "       1659, 2405, 2374, 2468, 2081, 1246, 1208, 1148, 2927, 2022, 1713,\n",
       "       2219, 1202])"
      ]
     },
     "execution_count": 12,
     "metadata": {},
     "output_type": "execute_result"
    }
   ],
   "source": [
    "#defining training data\n",
    "train_house_size = np.asarray(house_size[:num_train_samples])\n",
    "train_house_size"
   ]
  }
 ],
 "metadata": {
  "kernelspec": {
   "display_name": "Python 3",
   "language": "python",
   "name": "python3"
  },
  "language_info": {
   "codemirror_mode": {
    "name": "ipython",
    "version": 3
   },
   "file_extension": ".py",
   "mimetype": "text/x-python",
   "name": "python",
   "nbconvert_exporter": "python",
   "pygments_lexer": "ipython3",
   "version": "3.7.3"
  },
  "pycharm": {
   "stem_cell": {
    "cell_type": "raw",
    "metadata": {
     "collapsed": false
    },
    "source": []
   }
  }
 },
 "nbformat": 4,
 "nbformat_minor": 1
}
